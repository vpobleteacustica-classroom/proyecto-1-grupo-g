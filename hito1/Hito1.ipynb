{
 "cells": [
  {
   "cell_type": "markdown",
   "id": "a2e2080f-626d-4bf2-8632-50ea2bf97f07",
   "metadata": {},
   "source": [
    "# Primer Hito de Entrega\n",
    "**Curso:** [Acustica Computacional con Python]  \n",
    "**Proyecto:** Transformación de partidas PGN a secuencias sonoras  \n",
    "**Integrantes:** Angelo Ortiz, Lorenzo Vera, Cristian Vera\n",
    "**Profesor:** Victor Poblete R.  \n",
    "**Fecha:** 03/10/2025\n"
   ]
  },
  {
   "cell_type": "markdown",
   "id": "1254a5e1-d2a7-4761-bbf4-d64ce057a9b6",
   "metadata": {},
   "source": [
    "## Objetivo General\n",
    "Desarrollar un prototipo en Python que convierta partidas en formato PGN a secuencias sonoras interpretables, asignando timbres y eventos sonoros diferenciados según el tipo de jugada (pieza, captura, jaque, enroque, promoción), con salida en formato WAV o MP3 para su escucha y análisis.\n"
   ]
  },
  {
   "cell_type": "markdown",
   "id": "8d7d80c7-c7ac-4dbf-8e90-76dd27ef3495",
   "metadata": {},
   "source": [
    "## Objetivos Específicos\n",
    "1. Diseñar un parser que extraiga las jugadas en formato SAN (Standard Algebraic Notation) desde archivos o cadenas PGN, limpiando metadatos y marcas de tiempo.  \n",
    "2. Definir un mapeo sonoro por tipo de pieza y por evento (captura, jaque, promoción, enroque) y documentar la elección de timbres y frecuencias.  \n",
    "3. Implementar síntesis de audio en Python (senoidal, pluck, sawtooth y combinaciones) y generar un WAV concatenando los eventos.  \n",
    "4. Permitir personalizaciones (p. ej. asignar un sonido “electrónico” a movimientos concretos como Ra2).  \n",
    "5. Evaluar el resultado auditivo y documentar decisiones de diseño y posibles mejoras (MIDI, sinte más complejo, instrumentación).\n"
   ]
  },
  {
   "cell_type": "markdown",
   "id": "4937e28c-75de-46a2-9235-22e6f45f1219",
   "metadata": {},
   "source": [
    "## Estado del Arte\n",
    "¿Existe algo sobre el tema del proyecto a trabajar?\n",
    "\n",
    "Si, pero no da la misma manera en la cual trabajaremos nosotros, existen proyectos antiguos sobre personas que trabajan en la partida en tiempo real para crear musica, a travez de cada movimiento, captura o casilla.\n",
    "\n",
    "Un artículo en ChessBase que describe algoritmos para convertir partidos de ajedrez en música en tiempo real [3]\n",
    "\n",
    "También de las referencias mas famosas relacionadas con la musica y el ajedrez, es en la Champions Chess Tour del 2024 donde los jugadores pueden escuchar musica que ellos mismo eligieron [4]\n",
    "\n",
    "Con las investigaciones previas podemos concluir que no existe algo relativamente igual a la manera en la que deseamos trabajar."
   ]
  },
  {
   "cell_type": "markdown",
   "id": "e5b53640-4104-4dae-a89e-5c363a81dc8d",
   "metadata": {},
   "source": [
    "## Materiales y Métodos\n",
    "Datos a utilizar en este proyecto:\n",
    "\n",
    "Los datos utilizados en este proyecto provienen principalmente de bases de datos de torneos de ajedrez organizados en la Universidad Austral de Chile. Estas partidas se encuentran almacenadas en el formato estándar PGN (Portable Game Notation), el cual registra de manera estructurada cada movimiento de una partida junto con mas datos como por ejemplo los nombres de los . Este insumo constituye la base para transformar la información ajedrecística en secuencias musicales mediante algoritmos desarrollados en Python.\n",
    "\n",
    "librerías a estudiar para crear el proyecto: \n",
    "\n",
    "1) python-chess [1]: es la librería estándar en Python para trabajar con ajedrez, esta nos permite:\n",
    "\n",
    "- leer partidas en formato PGN \n",
    "- obtener información en cualquier jugada\n",
    "- identificar piezas, movimientos, capturas, enroques, jaques, mate.\n",
    "\n",
    "2) mido [2]: crea y manipular archivos MIDI:\n",
    "\n",
    "¿Qué es un archivo MIDI (.mid)?\n",
    "\n",
    "MIDI = Musical Instrument Digital Interface.\n",
    "\n",
    "no es un audio grabado (como .wax o .mp3) es un archivo de instrucciones que le dice a un sintetizador o programa musical qué nota tocar, cuánto dura, con qué intensidad y con qué instrumento.\n",
    "\n",
    "La estrucutura de un archivo MIDI se compone de distintas pistas (o tracks), y cada una de estas pistas contiene eventos:\n",
    " \n",
    "a) Header (cabecera):\n",
    "\n",
    "\t- Tipo de  archivo\n",
    "\t- Ticks por beat (Resolucion de tiempo)\n",
    "\t- Numero de pistas\n",
    "\n",
    "b) Tracks (pistas):\n",
    "\n",
    "\t- \"capas de musica\" (pistas dedicadas a distintos instrumentos)\n",
    "\t- cada pista tiene eventos de por medio \n",
    "\n",
    "c) eventos MIDI principales:\n",
    "\n",
    "\t- note_on: comienza una nota.\n",
    "\t- note_off: termina una nota.\n",
    "\t- program_change: cambia de instrumento\n",
    "\t- control_change: modifica parámetros\n",
    "\t- set_tempo: define la velocidad (BPM)\n",
    "\t- meta events: información extra (texto, nombre de pista, etc.)"
   ]
  },
  {
   "cell_type": "markdown",
   "id": "db5414e4-0e68-4885-b00d-2d834c5c8fbf",
   "metadata": {},
   "source": [
    "## Referencias Bibliográficas\n",
    "\n",
    "[1] Python-chess: https://python-chess.readthedocs.io/en/latest/\n",
    "\n",
    "[2] mido: https://mido.readthedocs.io/en/stable/\n",
    "\n",
    "[3] Articulo de chessbase: https://en.chessbase.com/post/a-che-music-formula\n",
    "\n",
    "[4] Champions Chess Tour: https://www.youtube.com/live/4MKSjfsUUN4\n"
   ]
  }
 ],
 "metadata": {
  "kernelspec": {
   "display_name": "Python (3.12 - jupyter_env)",
   "language": "python",
   "name": "jupyter_env"
  },
  "language_info": {
   "codemirror_mode": {
    "name": "ipython",
    "version": 3
   },
   "file_extension": ".py",
   "mimetype": "text/x-python",
   "name": "python",
   "nbconvert_exporter": "python",
   "pygments_lexer": "ipython3",
   "version": "3.12.11"
  }
 },
 "nbformat": 4,
 "nbformat_minor": 5
}
